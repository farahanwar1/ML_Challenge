{
 "cells": [
  {
   "cell_type": "markdown",
   "metadata": {},
   "source": [
    "# ** LEVEL 3** 💻"
   ]
  },
  {
   "cell_type": "markdown",
   "metadata": {},
   "source": [
    "### Tableau Interactive map 🗺️"
   ]
  },
  {
   "cell_type": "markdown",
   "metadata": {},
   "source": [
    "Run the following code to display my interactive map using Tableau Public "
   ]
  },
  {
   "cell_type": "markdown",
   "metadata": {},
   "source": [
    "Once you run the code, a web browser will display an interactive map. you will find three different charts:\n",
    "\n",
    "1- Map 🗺️: Displaying the locations of the crime incidents\n",
    "2- Bar Chart 📊: Displating the categories of the crimes \n",
    "3- Bubble Chart 🟢 : Displaying the districts of the crimes\n",
    "\n",
    "🔻You can customize the map by filtering a certain category of a crime 'X' : the map will only show the locations of the 'X' crime category and the bubble chart will show the crime counts of each district about that X crime category. \n",
    "\n",
    "🔻Similarly, you can choose a 'Y' District : the map will display all the crimes that occured in that area 'Y'and the bar chart will change to display the number of each crime category that occured in District 'Y'. \n"
   ]
  },
  {
   "cell_type": "code",
   "execution_count": 1,
   "metadata": {},
   "outputs": [
    {
     "data": {
      "text/plain": [
       "True"
      ]
     },
     "execution_count": 1,
     "metadata": {},
     "output_type": "execute_result"
    }
   ],
   "source": [
    "import webbrowser\n",
    "\n",
    "url = \"https://public.tableau.com/views/ML_Level3_Interactivemap/Dashboard1?:language=en-US&:sid=&:redirect=auth&:display_count=n&:origin=viz_share_link\"\n",
    "\n",
    "webbrowser.open(url)\n"
   ]
  },
  {
   "cell_type": "markdown",
   "metadata": {},
   "source": [
    "# Level 3: Done ✅\n",
    "## Next: Level 4 🚔\n",
    "### Almost there! 🚨"
   ]
  }
 ],
 "metadata": {
  "kernelspec": {
   "display_name": "base",
   "language": "python",
   "name": "python3"
  },
  "language_info": {
   "codemirror_mode": {
    "name": "ipython",
    "version": 3
   },
   "file_extension": ".py",
   "mimetype": "text/x-python",
   "name": "python",
   "nbconvert_exporter": "python",
   "pygments_lexer": "ipython3",
   "version": "3.12.7"
  }
 },
 "nbformat": 4,
 "nbformat_minor": 2
}
