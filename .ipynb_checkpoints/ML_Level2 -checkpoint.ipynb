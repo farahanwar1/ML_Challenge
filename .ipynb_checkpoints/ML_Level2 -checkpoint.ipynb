{
 "cells": [
  {
   "cell_type": "code",
   "execution_count": 10,
   "id": "78562319",
   "metadata": {},
   "outputs": [
    {
     "name": "stdout",
     "output_type": "stream",
     "text": [
      "Requirement already satisfied: xgboost in c:\\users\\dell\\anaconda3\\lib\\site-packages (2.1.4)\n",
      "Requirement already satisfied: scipy in c:\\users\\dell\\anaconda3\\lib\\site-packages (from xgboost) (1.13.1)\n",
      "Requirement already satisfied: numpy in c:\\users\\dell\\anaconda3\\lib\\site-packages (from xgboost) (1.22.4)\n"
     ]
    },
    {
     "name": "stderr",
     "output_type": "stream",
     "text": [
      "WARNING: Ignoring invalid distribution -atplotlib (c:\\users\\dell\\anaconda3\\lib\\site-packages)\n",
      "WARNING: Ignoring invalid distribution -atplotlib (c:\\users\\dell\\anaconda3\\lib\\site-packages)\n",
      "WARNING: Ignoring invalid distribution -atplotlib (c:\\users\\dell\\anaconda3\\lib\\site-packages)\n",
      "WARNING: Ignoring invalid distribution -atplotlib (c:\\users\\dell\\anaconda3\\lib\\site-packages)\n",
      "WARNING: Ignoring invalid distribution -atplotlib (c:\\users\\dell\\anaconda3\\lib\\site-packages)\n",
      "WARNING: Ignoring invalid distribution -atplotlib (c:\\users\\dell\\anaconda3\\lib\\site-packages)\n"
     ]
    }
   ],
   "source": [
    "!pip install --upgrade xgboost\n",
    "from sklearn.feature_extraction.text import TfidfVectorizer\n",
    "from sklearn.model_selection import train_test_split\n",
    "from sklearn.ensemble import RandomForestClassifier\n",
    "from xgboost import XGBClassifier\n",
    "from sklearn.naive_bayes import MultinomialNB\n",
    "from sklearn.svm import SVC\n",
    "from sklearn.metrics import accuracy_score, classification_report\n",
    "import matplotlib.pyplot as plt\n",
    "import seaborn as sns\n",
    "import pandas as pd\n",
    "from sklearn.preprocessing import LabelEncoder\n",
    "from sklearn.linear_model import LogisticRegression"
   ]
  },
  {
   "cell_type": "code",
   "execution_count": 2,
   "id": "8cdf61d2",
   "metadata": {},
   "outputs": [],
   "source": [
    "# Load the dataset\n",
    "df = pd.read_csv(\"Competition_Dataset.csv\")\n",
    "\n",
    "# Convert 'Dates' to datetime format\n",
    "df['Dates'] = pd.to_datetime(df['Dates'], errors='coerce')\n",
    "\n",
    "# Drop rows with missing values in 'Descript' or 'Category'\n",
    "df = df.dropna(subset=['Descript', 'Category'])\n"
   ]
  },
  {
   "cell_type": "code",
   "execution_count": 3,
   "id": "0b5ce308",
   "metadata": {},
   "outputs": [],
   "source": [
    "# 🔹 PART A: PREDICTING CRIME TYPE\n",
    "\n",
    "# 1️⃣ Define Input (X) & Output (y)\n",
    "X = df['Descript']  # Crime description (text)\n",
    "y = df['Category']  # Crime category (label)"
   ]
  },
  {
   "cell_type": "code",
   "execution_count": 4,
   "id": "1da1ac39",
   "metadata": {},
   "outputs": [],
   "source": [
    "# 2️⃣ Convert text descriptions to numerical format using TF-IDF\n",
    "# Import the necessary class\n",
    "from sklearn.feature_extraction.text import TfidfVectorizer\n",
    "vectorizer = TfidfVectorizer(stop_words='english', max_features=5000)\n",
    "X_tfidf = vectorizer.fit_transform(X)"
   ]
  },
  {
   "cell_type": "code",
   "execution_count": 5,
   "id": "53274a6d",
   "metadata": {},
   "outputs": [],
   "source": [
    "# 3️⃣ Split into training (80%) & testing (20%) data\n",
    "X_train, X_test, y_train, y_test = train_test_split(X_tfidf, y, test_size=0.2, random_state=42)"
   ]
  },
  {
   "cell_type": "code",
   "execution_count": 6,
   "id": "0f06571b",
   "metadata": {},
   "outputs": [],
   "source": [
    "# Encode labels if needed (only if y_train contains non-numeric values)\n",
    "import xgboost as xgb\n",
    "encoder = LabelEncoder()\n",
    "y_train_encoded = encoder.fit_transform(y_train)\n"
   ]
  },
  {
   "cell_type": "code",
   "execution_count": 12,
   "id": "8f745f9f",
   "metadata": {},
   "outputs": [],
   "source": [
    "# 4️⃣ Define models\n",
    "models = {\n",
    "    \"Logistic Regression\": LogisticRegression(max_iter=500),\n",
    "    \"Random Forest\": RandomForestClassifier(n_estimators=100, random_state=42),\n",
    "    \"XGBoost\": XGBClassifier(use_label_encoder=False, eval_metric='mlogloss'),\n",
    "    \"Naive Bayes\": MultinomialNB(),\n",
    "    \"SVM\": SVC(kernel='linear', probability=True)\n",
    "}\n"
   ]
  },
  {
   "cell_type": "code",
   "execution_count": 13,
   "id": "a4c97e26",
   "metadata": {},
   "outputs": [
    {
     "name": "stdout",
     "output_type": "stream",
     "text": [
      "\n",
      "🔹 Logistic Regression Accuracy: 0.9970\n",
      "\n",
      "🔹 Random Forest Accuracy: 0.9971\n"
     ]
    },
    {
     "name": "stderr",
     "output_type": "stream",
     "text": [
      "C:\\Users\\DeLL\\anaconda3\\lib\\site-packages\\xgboost\\core.py:158: UserWarning: [01:39:31] WARNING: C:\\buildkite-agent\\builds\\buildkite-windows-cpu-autoscaling-group-i-08cbc0333d8d4aae1-1\\xgboost\\xgboost-ci-windows\\src\\learner.cc:740: \n",
      "Parameters: { \"use_label_encoder\" } are not used.\n",
      "\n",
      "  warnings.warn(smsg, UserWarning)\n"
     ]
    },
    {
     "name": "stdout",
     "output_type": "stream",
     "text": [
      "\n",
      "🔹 XGBoost Accuracy: 0.9971\n",
      "\n",
      "🔹 Naive Bayes Accuracy: 0.9957\n",
      "\n",
      "🔹 SVM Accuracy: 0.9971\n"
     ]
    }
   ],
   "source": [
    "# 5️⃣ Train & evaluate models\n",
    "accuracy_results = {}\n",
    "\n",
    "for name, model in models.items():\n",
    "    # Fit the LabelEncoder on the training data and transform it\n",
    "    y_train_encoded = encoder.fit_transform(y_train)\n",
    "\n",
    "    # If the model is XGBoost, we need to fit with the encoded labels\n",
    "    if name == \"XGBoost\":\n",
    "        model.fit(X_train, y_train_encoded)\n",
    "    else:\n",
    "        model.fit(X_train, y_train)\n",
    "\n",
    "    # Transform the test labels for evaluation\n",
    "    y_test_encoded = encoder.transform(y_test)\n",
    "\n",
    "    # Predict using the encoded test data if it's XGBoost\n",
    "    if name == \"XGBoost\":\n",
    "        y_pred = model.predict(X_test)\n",
    "        # Inverse transform to get original labels for classification_report\n",
    "        y_pred = encoder.inverse_transform(y_pred)\n",
    "    else:\n",
    "        y_pred = model.predict(X_test)\n",
    "\n",
    "    accuracy = accuracy_score(y_test, y_pred)\n",
    "    accuracy_results[name] = accuracy\n",
    "\n",
    "    print(f\"\\n🔹 {name} Accuracy: {accuracy:.4f}\")\n",
    "   # print(classification_report(y_test, y_pred))\n"
   ]
  },
  {
   "cell_type": "code",
   "execution_count": 14,
   "id": "83226e16",
   "metadata": {},
   "outputs": [
    {
     "data": {
      "image/png": "[encoded data removed]",
      "text/plain": [
       "<Figure size 576x360 with 1 Axes>"
      ]
     },
     "metadata": {
      "needs_background": "light"
     },
     "output_type": "display_data"
    }
   ],
   "source": [
    "# 6️⃣ Plot accuracy comparison (Line Plot)\n",
    "import pandas as pd  # Import pandas for DataFrame creation\n",
    "import seaborn as sns\n",
    "import matplotlib.pyplot as plt\n",
    "\n",
    "# Create a DataFrame from accuracy_results\n",
    "accuracy_df = pd.DataFrame(list(accuracy_results.items()), columns=[\"Model\", \"Accuracy\"])\n",
    "\n",
    "plt.figure(figsize=(8, 5))\n",
    "sns.lineplot(x=accuracy_df[\"Model\"], y=accuracy_df[\"Accuracy\"], marker=\"o\", linewidth=2, color=\"blue\")\n",
    "\n",
    "plt.ylim(0.99, 1)  # Zoom in on the range (adjust based on results)\n",
    "plt.title(\"Model Accuracy Comparison\")\n",
    "plt.ylabel(\"Accuracy Score\")\n",
    "plt.xlabel(\"Model\")\n",
    "plt.xticks(rotation=45)\n",
    "plt.grid(True, linestyle=\"--\", alpha=0.7)\n",
    "\n",
    "plt.show()\n"
   ]
  },
  {
   "cell_type": "code",
   "execution_count": null,
   "id": "8e7d8590",
   "metadata": {},
   "outputs": [],
   "source": [
    "####fine tuning and visualizing the improvment i left it "
   ]
  },
  {
   "cell_type": "code",
   "execution_count": 20,
   "id": "8da4322f",
   "metadata": {},
   "outputs": [],
   "source": [
    "# 🔹 PART B: ASSIGNING CRIME SEVERITY"
   ]
  },
  {
   "cell_type": "code",
   "execution_count": 15,
   "id": "564a513b",
   "metadata": {},
   "outputs": [
    {
     "name": "stdout",
     "output_type": "stream",
     "text": [
      "                     Category  Severity\n",
      "80345       RECOVERED VEHICLE         1\n",
      "227                   RUNAWAY         1\n",
      "126            MISSING PERSON         1\n",
      "13               NON-CRIMINAL         1\n",
      "51             SUSPICIOUS OCC         1\n",
      "8821               BAD CHECKS         2\n",
      "468        DISORDERLY CONDUCT         2\n",
      "0                    WARRANTS         2\n",
      "104                  TRESPASS         2\n",
      "1              OTHER OFFENSES         2\n",
      "11                  VANDALISM         2\n",
      "1888             EMBEZZLEMENT         3\n",
      "1396                  BRIBERY         3\n",
      "3               LARCENY/THEFT         3\n",
      "6               VEHICLE THEFT         3\n",
      "307                     FRAUD         3\n",
      "31037         STOLEN PROPERTY         3\n",
      "92              DRUG/NARCOTIC         3\n",
      "88     FORGERY/COUNTERFEITING         3\n",
      "33                WEAPON LAWS         4\n",
      "5983                EXTORTION         4\n",
      "14                    ROBBERY         4\n",
      "43                   BURGLARY         4\n",
      "524                     ARSON         5\n",
      "198                KIDNAPPING         5\n",
      "\n",
      "Updated CSV saved as 'crime_data_with_severity.csv'\n"
     ]
    }
   ],
   "source": [
    "# Define severity levels mapping\n",
    "severity_mapping = {\n",
    "    \"NON-CRIMINAL\": 1, \"SUSPICIOUS OCC\": 1, \"MISSING PERSON\": 1, \"RUNAWAY\": 1, \"RECOVERED VEHICLE\": 1,\n",
    "    \"WARRANTS\": 2, \"OTHER OFFENSES\": 2, \"VANDALISM\": 2, \"TRESPASS\": 2, \"DISORDERLY CONDUCT\": 2, \"BAD CHECKS\": 2,\n",
    "    \"LARCENY/THEFT\": 3, \"VEHICLE THEFT\": 3, \"FORGERY/COUNTERFEITING\": 3, \"DRUG/NARCOTIC\": 3,\n",
    "    \"STOLEN PROPERTY\": 3, \"FRAUD\": 3, \"BRIBERY\": 3, \"EMBEZZLEMENT\": 3,\n",
    "    \"ROBBERY\": 4, \"WEAPON LAWS\": 4, \"BURGLARY\": 4, \"EXTORTION\": 4,\n",
    "    \"KIDNAPPING\": 5, \"ARSON\": 5\n",
    "}\n",
    "\n",
    "# Function to assign severity with error handling\n",
    "def assign_severity(category):\n",
    "    if pd.isna(category):  # Check for missing values\n",
    "        return -1  # Assign a numerical value for \"Unknown\" for sorting purposes\n",
    "    return severity_mapping.get(category, -1)  # Handle unexpected values, assigning -1\n",
    "\n",
    "# Apply function to dataset\n",
    "df['Severity'] = df['Category'].apply(assign_severity)\n",
    "\n",
    "\n",
    "# Save the updated dataset as a new file\n",
    "df.to_csv(\"crime_data_with_severity.csv\", index=False)\n",
    "\n",
    "# Show sample data\n",
    "## Count occurrences of each crime category\n",
    "category_counts = df['Category'].value_counts().reset_index()\n",
    "category_counts.columns = ['Category', 'Total Cases']\n",
    "\n",
    "# Show sample data\n",
    "print(df[['Category', 'Severity']].drop_duplicates().sort_values('Severity'))\n",
    "\n",
    "# Keep the original index by selecting the first occurrence of each category\n",
    "# original_index_df = df[['Category', 'Severity']].reset_index().groupby('Category').first()\n",
    "\n",
    "# Merge with total cases count\n",
    "#severity_df = original_index_df.merge(category_counts, on='Category')\n",
    "\n",
    "# Rename columns\n",
    "#severity_df.rename(columns={'index': 'Original Index'}, inplace=True)\n",
    "\n",
    "# Display the table without the first column (default index)\n",
    "#print(severity_df.to_string(index=False))\n",
    "\n",
    "print(\"\\nUpdated CSV saved as 'crime_data_with_severity.csv'\")\n",
    "# Display the table\n",
    "#print(severity_df)\n",
    "\n",
    "\n"
   ]
  },
  {
   "cell_type": "code",
   "execution_count": 16,
   "id": "54b7ef52",
   "metadata": {},
   "outputs": [
    {
     "data": {
      "image/png": "[encoded data removed]",
      "text/plain": [
       "<Figure size 576x360 with 1 Axes>"
      ]
     },
     "metadata": {
      "needs_background": "light"
     },
     "output_type": "display_data"
    },
    {
     "data": {
      "image/png": "[encoded data removed]",
      "text/plain": [
       "<Figure size 432x432 with 1 Axes>"
      ]
     },
     "metadata": {},
     "output_type": "display_data"
    }
   ],
   "source": [
    "import matplotlib.pyplot as plt\n",
    "import seaborn as sns\n",
    "\n",
    "# Count occurrences of each severity level\n",
    "severity_counts = df['Severity'].value_counts().sort_index()\n",
    "\n",
    "# 🔹 Bar Chart - Crime Severity Distribution\n",
    "plt.figure(figsize=(8, 5))\n",
    "sns.barplot(x=severity_counts.index, y=severity_counts.values, palette=\"coolwarm\")\n",
    "plt.xlabel(\"Severity Level\")\n",
    "plt.ylabel(\"Crime Count\")\n",
    "plt.title(\"Crime Severity Distribution\")\n",
    "plt.xticks(rotation=0)\n",
    "plt.show()\n",
    "\n",
    "# 🔹 Pie Chart - Crime Severity Proportion\n",
    "plt.figure(figsize=(6, 6))\n",
    "plt.pie(severity_counts, labels=severity_counts.index, autopct='%1.1f%%', colors=sns.color_palette(\"coolwarm\", len(severity_counts)))\n",
    "plt.title(\"Crime Severity Proportion\")\n",
    "plt.show()\n"
   ]
  },
  {
   "cell_type": "code",
   "execution_count": null,
   "id": "a4bd3f2e",
   "metadata": {},
   "outputs": [],
   "source": [
    "######### u can mention the if else method instead of the mapping "
   ]
  },
  {
   "cell_type": "code",
   "execution_count": null,
   "id": "7d564a4f",
   "metadata": {},
   "outputs": [],
   "source": []
  },
  {
   "cell_type": "code",
   "execution_count": null,
   "id": "b176200b",
   "metadata": {},
   "outputs": [],
   "source": []
  },
  {
   "cell_type": "code",
   "execution_count": null,
   "id": "8a78ce1f",
   "metadata": {},
   "outputs": [],
   "source": []
  }
 ],
 "metadata": {
  "kernelspec": {
   "display_name": "Python 3 (ipykernel)",
   "language": "python",
   "name": "python3"
  },
  "language_info": {
   "codemirror_mode": {
    "name": "ipython",
    "version": 3
   },
   "file_extension": ".py",
   "mimetype": "text/x-python",
   "name": "python",
   "nbconvert_exporter": "python",
   "pygments_lexer": "ipython3",
   "version": "3.9.12"
  }
 },
 "nbformat": 4,
 "nbformat_minor": 5
}
